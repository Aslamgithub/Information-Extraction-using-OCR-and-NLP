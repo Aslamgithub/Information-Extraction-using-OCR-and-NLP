{
 "cells": [
  {
   "cell_type": "markdown",
   "metadata": {},
   "source": [
    "# Libraries"
   ]
  },
  {
   "cell_type": "code",
   "execution_count": 1,
   "metadata": {},
   "outputs": [],
   "source": [
    "import spacy\n",
    "import pandas as pd\n",
    "import os\n",
    "from spacy.tokens import DocBin\n",
    "from tqdm import tqdm\n",
    "import ast"
   ]
  },
  {
   "cell_type": "markdown",
   "metadata": {},
   "source": [
    "# Read train file"
   ]
  },
  {
   "cell_type": "code",
   "execution_count": 101,
   "metadata": {},
   "outputs": [],
   "source": [
    "filename = open(r'D:\\R & D PROJECT\\Train_text\\train_data.txt', 'r')\n",
    "train_data=filename.read()\n",
    "train = ast.literal_eval(train_data)"
   ]
  },
  {
   "cell_type": "code",
   "execution_count": 104,
   "metadata": {},
   "outputs": [
    {
     "data": {
      "text/plain": [
       "('villa housing scheme construction reserve single 2 storey house bathroom tvhall living room model house ready inspection cctv security gym also available 3 block land available ate 0773209667 Malinda 0719663300 priyantha o 712298486 parakandeniya hettikanda road kokiskade junction kadawatha frank rude ,',\n",
       " {'entities': [(0, 5, 'Type'),\n",
       "   (181, 191, 'Contact'),\n",
       "   (192, 199, 'Advertiser'),\n",
       "   (200, 210, 'Contact'),\n",
       "   (223, 232, 'Contact'),\n",
       "   (211, 220, 'Advertiser'),\n",
       "   (233, 246, 'Location'),\n",
       "   (263, 272, 'Location')]})"
      ]
     },
     "execution_count": 104,
     "metadata": {},
     "output_type": "execute_result"
    }
   ],
   "source": [
    "train[1]"
   ]
  },
  {
   "cell_type": "markdown",
   "metadata": {},
   "source": [
    "# Model building"
   ]
  },
  {
   "cell_type": "code",
   "execution_count": 106,
   "metadata": {},
   "outputs": [
    {
     "name": "stderr",
     "output_type": "stream",
     "text": [
      "  9%|▉         | 26/297 [00:00<00:02, 91.58it/s]"
     ]
    },
    {
     "name": "stdout",
     "output_type": "stream",
     "text": [
      "Skipping entity\n",
      "Skipping entity\n",
      "Skipping entity\n",
      "Skipping entity\n",
      "Skipping entity\n",
      "Skipping entity\n",
      "Skipping entity\n",
      "Skipping entity\n",
      "Skipping entity\n",
      "Skipping entity\n",
      "Skipping entity\n",
      "Skipping entity\n",
      "Skipping entity\n",
      "Skipping entity\n",
      "Skipping entity\n",
      "Skipping entity\n",
      "Skipping entity\n",
      "Skipping entity\n",
      "Skipping entity\n",
      "Skipping entity\n",
      "Skipping entity\n",
      "Skipping entity\n",
      "Skipping entity\n",
      "Skipping entity\n",
      "Skipping entity\n",
      "Skipping entity\n",
      "Skipping entity\n",
      "Skipping entity\n",
      "Skipping entity\n"
     ]
    },
    {
     "name": "stderr",
     "output_type": "stream",
     "text": [
      " 92%|█████████▏| 274/297 [00:00<00:00, 255.20it/s]"
     ]
    },
    {
     "name": "stdout",
     "output_type": "stream",
     "text": [
      "Skipping entity\n",
      "Skipping entity\n",
      "Skipping entity\n",
      "Skipping entity\n",
      "Skipping entity\n",
      "Skipping entity\n",
      "Skipping entity\n",
      "Skipping entity\n",
      "Skipping entity\n",
      "Skipping entity\n",
      "Skipping entity\n",
      "Skipping entity\n",
      "Skipping entity\n",
      "Skipping entity\n",
      "Skipping entity\n",
      "Skipping entity\n",
      "Skipping entity\n",
      "Skipping entity\n",
      "Skipping entity\n",
      "Skipping entity\n",
      "Skipping entity\n"
     ]
    },
    {
     "name": "stderr",
     "output_type": "stream",
     "text": [
      "100%|██████████| 297/297 [00:00<00:00, 436.76it/s]\n"
     ]
    }
   ],
   "source": [
    "#nlp = spacy.load('en_core_web_sm')\n",
    "nlp = spacy.blank('en') # new spacy model\n",
    "\n",
    "db = DocBin()\n",
    "\n",
    "for text, annot in tqdm(train): # data in previous format\n",
    "    doc = nlp.make_doc(text) # create doc object from text\n",
    "    ents = []\n",
    "    for start, end, label in annot[\"entities\"]: # add character indexes\n",
    "        span = doc.char_span(start, end, label=label, alignment_mode=\"contract\")\n",
    "        if span is None:\n",
    "            print(\"Skipping entity\")\n",
    "        else:\n",
    "            ents.append(span)\n",
    "    doc.ents = ents # label the text with the ents\n",
    "    db.add(doc)\n",
    "\n",
    "os.chdir(r'C:\\Users\\uer\\Documents\\Python Scripts\\nlp_model_property')\n",
    "db.to_disk('./train.spacy') "
   ]
  },
  {
   "cell_type": "markdown",
   "metadata": {},
   "source": [
    "# filling config"
   ]
  },
  {
   "cell_type": "code",
   "execution_count": null,
   "metadata": {},
   "outputs": [],
   "source": [
    "# python -m spacy init fill-config base_config.cfg config.cfg"
   ]
  },
  {
   "cell_type": "markdown",
   "metadata": {},
   "source": [
    "# Run training"
   ]
  },
  {
   "cell_type": "code",
   "execution_count": null,
   "metadata": {},
   "outputs": [],
   "source": [
    "# python -m spacy train config.cfg --output ./output --paths.train ./train.spacy --paths.dev ./train.spacy"
   ]
  },
  {
   "cell_type": "markdown",
   "metadata": {},
   "source": [
    "# Import model"
   ]
  },
  {
   "cell_type": "code",
   "execution_count": 2,
   "metadata": {},
   "outputs": [],
   "source": [
    "nlp_model = spacy.load(r'C:\\Users\\uer\\Documents\\Python Scripts\\nlp_model_property\\output\\model-best')"
   ]
  },
  {
   "cell_type": "markdown",
   "metadata": {},
   "source": [
    "# test data"
   ]
  },
  {
   "cell_type": "code",
   "execution_count": 3,
   "metadata": {},
   "outputs": [
    {
     "data": {
      "text/plain": [
       "['2 storey house negonbo 2 storey air conditioned house thushara Hiawatha 2 mind negombo Colombo road 5 mind negombo town lobby living dinning ki kitchen pantry balcony 4 bedroom 3 bathroom 3000 sq foot solar power hot water e system nmatap water upper tank garbage service 3 time week land area 12 perch price 28000000 negotiable tel 0765331254 ',\n",
       " 'ratmalana house ratmalana borupana road 118 perch land house 3 bedroom 2 toilet 1 hall dining Hal pantry kitchen wall right round front garden rear garden 2 court yard walking distance car gills super kudu r 3000000 negotiable broker genuine buyer 0773890545 ',\n",
       " 'katubedda pbalwis per era Hiawatha 300 Galle road 4 spacious bedroom 2 bathroom large living dining area spacious pantry outside extra kitchen toilet garage parapet wall around 19 perch asking price 360 00000 inspection appointment ovary wry aye ',\n",
       " 'luxury house Colombo 6 2500 sqft 4 bedroom ac 3 bathroom hot water parking 2 rolled shutter gate oz unfurnished upstairs house 225 k pm negotiable garden backyard available 0773867704 ',\n",
       " 'kotagedara piliyandala house 2 bedroomed 6 p complete ac cctv wire mesh razor blade around boundary wall wall cupboard t vo bear role roller gate fully tiled upper floor complete slab immediate 3 owner migrating bathroom 1 shower cubicle servant bathroom 0777668357 kotagedara piliyandala ']"
      ]
     },
     "execution_count": 3,
     "metadata": {},
     "output_type": "execute_result"
    }
   ],
   "source": [
    "filename = open(r'D:\\R & D PROJECT\\Test_text\\test_data.txt', 'r')\n",
    "test_data = filename.read()\n",
    "test_txt = [data.replace('\\n','') for data in test_data.split(',')]\n",
    "test_txt[:5]"
   ]
  },
  {
   "cell_type": "code",
   "execution_count": 219,
   "metadata": {},
   "outputs": [],
   "source": [
    "prop_all = []\n",
    "for test in test_txt:\n",
    "    doc = nlp_model(test)\n",
    "    property_lst = []\n",
    "    for ent in doc.ents:\n",
    "        tup=ent.label_, ent.text\n",
    "        property_lst.append(tup)\n",
    "    prop_all.append(list(set(property_lst)))"
   ]
  },
  {
   "cell_type": "code",
   "execution_count": 244,
   "metadata": {},
   "outputs": [
    {
     "name": "stdout",
     "output_type": "stream",
     "text": [
      "[('Location', 'ratmalana'), ('Bathroom', '2 toilet'), ('Bedroom', '3 bedroom'), ('LandSize', '118 perch'), ('Advertiser', 'rear'), ('Type', 'house'), ('Contact', '0773890545'), ('Price', 'r 3000000')]\n"
     ]
    }
   ],
   "source": [
    "print(prop_all[1])"
   ]
  },
  {
   "cell_type": "code",
   "execution_count": 220,
   "metadata": {},
   "outputs": [],
   "source": [
    "new_prop_lst = []\n",
    "for tup_l in prop_all:\n",
    "    new_tup_lst = []\n",
    "    for tup in tup_l:\n",
    "        if new_tup_lst:\n",
    "            letters = []\n",
    "            for element in new_tup_lst:\n",
    "                letters.append(element[0])\n",
    "            if tup[0] not in letters:\n",
    "                new_tup_lst.append(tup)\n",
    "        else:\n",
    "            new_tup_lst.append(tup)\n",
    "    new_prop_lst.append(new_tup_lst)"
   ]
  },
  {
   "cell_type": "code",
   "execution_count": 221,
   "metadata": {},
   "outputs": [
    {
     "name": "stdout",
     "output_type": "stream",
     "text": [
      "[('Location', 'ratmalana'), ('Bathroom', '2 toilet'), ('Bedroom', '3 bedroom'), ('LandSize', '118 perch'), ('Advertiser', 'rear'), ('Type', 'house'), ('Contact', '0773890545'), ('Price', 'r 3000000')]\n"
     ]
    }
   ],
   "source": [
    "print(new_prop_lst[1])"
   ]
  },
  {
   "cell_type": "markdown",
   "metadata": {},
   "source": [
    "# Find Property type and Append to list"
   ]
  },
  {
   "cell_type": "code",
   "execution_count": 222,
   "metadata": {},
   "outputs": [
    {
     "data": {
      "text/plain": [
       "158"
      ]
     },
     "execution_count": 222,
     "metadata": {},
     "output_type": "execute_result"
    }
   ],
   "source": [
    "ptype_lst = []\n",
    "for typ_lst in new_prop_lst:\n",
    "    found = False\n",
    "    for ptyp in typ_lst:\n",
    "        if ptyp[0] == 'Type':\n",
    "            ptype_lst.append(ptyp[1])\n",
    "            found = True\n",
    "    if not found:\n",
    "        ptype_lst.append('NaN')\n",
    "len(ptype_lst)"
   ]
  },
  {
   "cell_type": "markdown",
   "metadata": {},
   "source": [
    "# Find Location"
   ]
  },
  {
   "cell_type": "code",
   "execution_count": 224,
   "metadata": {},
   "outputs": [
    {
     "name": "stdout",
     "output_type": "stream",
     "text": [
      "ratmalana\n"
     ]
    }
   ],
   "source": [
    "ploc_lst = []\n",
    "for loc_lst in new_prop_lst:\n",
    "    found = False\n",
    "    for ploc in loc_lst:\n",
    "        if ploc[0] == 'Location':\n",
    "            ploc_lst.append(ploc[1])\n",
    "            found = True\n",
    "    if not found:\n",
    "        ploc_lst.append('NaN')\n",
    "print(ploc_lst[1])"
   ]
  },
  {
   "cell_type": "markdown",
   "metadata": {},
   "source": [
    "# Find Land size"
   ]
  },
  {
   "cell_type": "code",
   "execution_count": 225,
   "metadata": {},
   "outputs": [
    {
     "data": {
      "text/plain": [
       "158"
      ]
     },
     "execution_count": 225,
     "metadata": {},
     "output_type": "execute_result"
    }
   ],
   "source": [
    "lsize_lst = []\n",
    "for size_lst in new_prop_lst:\n",
    "    found = False\n",
    "    for s in size_lst:\n",
    "        if s[0] == 'LandSize':\n",
    "            lsize_lst.append(s[1])\n",
    "            found = True\n",
    "    if not found:\n",
    "        lsize_lst.append('NaN')\n",
    "len(lsize_lst)"
   ]
  },
  {
   "cell_type": "markdown",
   "metadata": {},
   "source": [
    "# Find property size"
   ]
  },
  {
   "cell_type": "code",
   "execution_count": 226,
   "metadata": {},
   "outputs": [
    {
     "data": {
      "text/plain": [
       "158"
      ]
     },
     "execution_count": 226,
     "metadata": {},
     "output_type": "execute_result"
    }
   ],
   "source": [
    "psize_lst = []\n",
    "for psz_lst in new_prop_lst:\n",
    "    found = False\n",
    "    for psize in psz_lst:\n",
    "        if psize[0] == 'PropertySize':\n",
    "            psize_lst.append(psize[1])\n",
    "            found = True\n",
    "    if not found:\n",
    "        psize_lst.append('NaN')\n",
    "len(psize_lst)"
   ]
  },
  {
   "cell_type": "markdown",
   "metadata": {},
   "source": [
    "# Find Bedrooms"
   ]
  },
  {
   "cell_type": "code",
   "execution_count": 227,
   "metadata": {},
   "outputs": [
    {
     "data": {
      "text/plain": [
       "158"
      ]
     },
     "execution_count": 227,
     "metadata": {},
     "output_type": "execute_result"
    }
   ],
   "source": [
    "bedroom_lst = []\n",
    "for br_lst in new_prop_lst:\n",
    "    found = False\n",
    "    for bed in br_lst:\n",
    "        if bed[0] == 'Bedroom':\n",
    "            bedroom_lst.append(bed[1])\n",
    "            found = True\n",
    "    if not found:\n",
    "        bedroom_lst.append('NaN')\n",
    "len(bedroom_lst)"
   ]
  },
  {
   "cell_type": "markdown",
   "metadata": {},
   "source": [
    "# Find Bathrooms"
   ]
  },
  {
   "cell_type": "code",
   "execution_count": 228,
   "metadata": {},
   "outputs": [
    {
     "data": {
      "text/plain": [
       "158"
      ]
     },
     "execution_count": 228,
     "metadata": {},
     "output_type": "execute_result"
    }
   ],
   "source": [
    "bathroom_lst = []\n",
    "for bthrm_lst in new_prop_lst:\n",
    "    found = False\n",
    "    for bath in bthrm_lst:\n",
    "        if bath[0] == 'Bathroom':\n",
    "            bathroom_lst.append(bath[1])\n",
    "            found = True\n",
    "    if not found:\n",
    "        bathroom_lst.append('NaN')\n",
    "len(bathroom_lst)"
   ]
  },
  {
   "cell_type": "markdown",
   "metadata": {},
   "source": [
    "# Find Advertiser"
   ]
  },
  {
   "cell_type": "code",
   "execution_count": 231,
   "metadata": {},
   "outputs": [
    {
     "name": "stdout",
     "output_type": "stream",
     "text": [
      "thushara\n"
     ]
    }
   ],
   "source": [
    "advertiser_lst = []\n",
    "for advtr_lst in new_prop_lst:\n",
    "    found = False\n",
    "    for advt in advtr_lst:\n",
    "        if advt[0] == 'Advertiser':\n",
    "            advertiser_lst.append(advt[1])\n",
    "            found = True\n",
    "    if not found:\n",
    "        advertiser_lst.append('NaN')\n",
    "print(advertiser_lst[0])"
   ]
  },
  {
   "cell_type": "markdown",
   "metadata": {},
   "source": [
    "# Find Contact Number"
   ]
  },
  {
   "cell_type": "code",
   "execution_count": 232,
   "metadata": {},
   "outputs": [
    {
     "data": {
      "text/plain": [
       "158"
      ]
     },
     "execution_count": 232,
     "metadata": {},
     "output_type": "execute_result"
    }
   ],
   "source": [
    "contact_lst = []\n",
    "for cont_lst in new_prop_lst:\n",
    "    found = False\n",
    "    for cont in cont_lst:\n",
    "        if cont[0] == 'Contact':\n",
    "            contact_lst.append(cont[1])\n",
    "            found = True\n",
    "    if not found:\n",
    "        contact_lst.append('NaN')\n",
    "len(contact_lst)"
   ]
  },
  {
   "cell_type": "markdown",
   "metadata": {},
   "source": [
    "# Find Price"
   ]
  },
  {
   "cell_type": "code",
   "execution_count": 239,
   "metadata": {},
   "outputs": [
    {
     "data": {
      "text/plain": [
       "158"
      ]
     },
     "execution_count": 239,
     "metadata": {},
     "output_type": "execute_result"
    }
   ],
   "source": [
    "pprice_lst = []\n",
    "for price_lst in new_prop_lst:\n",
    "    found = False\n",
    "    for price in price_lst:\n",
    "        if price[0] == 'Price':\n",
    "            pprice_lst.append(price[1])\n",
    "            found = True\n",
    "    if not found:\n",
    "        pprice_lst.append('NaN')\n",
    "len(pprice_lst)"
   ]
  },
  {
   "cell_type": "markdown",
   "metadata": {},
   "source": [
    "# Create DataFrame"
   ]
  },
  {
   "cell_type": "code",
   "execution_count": 234,
   "metadata": {},
   "outputs": [],
   "source": [
    "data_dic = {'Property_type':ptype_lst,\n",
    "                    'Address':ploc_lst,\n",
    "                    'Area_of_Land':lsize_lst,\n",
    "                    'Bedrooms':bedroom_lst,\n",
    "                    'Bathrooms':bathroom_lst,\n",
    "                    'Property_size':psize_lst,\n",
    "                    'Advertiser':advertiser_lst,\n",
    "                    'contact_num':contact_lst,\n",
    "                    'Price':pprice_lst}"
   ]
  },
  {
   "cell_type": "code",
   "execution_count": 237,
   "metadata": {},
   "outputs": [
    {
     "data": {
      "text/html": [
       "<div>\n",
       "<style scoped>\n",
       "    .dataframe tbody tr th:only-of-type {\n",
       "        vertical-align: middle;\n",
       "    }\n",
       "\n",
       "    .dataframe tbody tr th {\n",
       "        vertical-align: top;\n",
       "    }\n",
       "\n",
       "    .dataframe thead th {\n",
       "        text-align: right;\n",
       "    }\n",
       "</style>\n",
       "<table border=\"1\" class=\"dataframe\">\n",
       "  <thead>\n",
       "    <tr style=\"text-align: right;\">\n",
       "      <th></th>\n",
       "      <th>Property_type</th>\n",
       "      <th>Address</th>\n",
       "      <th>Area_of_Land</th>\n",
       "      <th>Bedrooms</th>\n",
       "      <th>Bathrooms</th>\n",
       "      <th>Property_size</th>\n",
       "      <th>Advertiser</th>\n",
       "      <th>contact_num</th>\n",
       "      <th>Price</th>\n",
       "    </tr>\n",
       "  </thead>\n",
       "  <tbody>\n",
       "    <tr>\n",
       "      <th>0</th>\n",
       "      <td>house</td>\n",
       "      <td>Colombo</td>\n",
       "      <td>12 perch</td>\n",
       "      <td>4 bedroom</td>\n",
       "      <td>3 bathroom</td>\n",
       "      <td>3000 sq</td>\n",
       "      <td>thushara</td>\n",
       "      <td>NaN</td>\n",
       "      <td>price 28000000</td>\n",
       "    </tr>\n",
       "    <tr>\n",
       "      <th>1</th>\n",
       "      <td>house</td>\n",
       "      <td>ratmalana</td>\n",
       "      <td>118 perch</td>\n",
       "      <td>3 bedroom</td>\n",
       "      <td>2 toilet</td>\n",
       "      <td>NaN</td>\n",
       "      <td>rear</td>\n",
       "      <td>0773890545</td>\n",
       "      <td>r 3000000</td>\n",
       "    </tr>\n",
       "    <tr>\n",
       "      <th>2</th>\n",
       "      <td>NaN</td>\n",
       "      <td>katubedda</td>\n",
       "      <td>19 perch</td>\n",
       "      <td>NaN</td>\n",
       "      <td>2 bathroom</td>\n",
       "      <td>NaN</td>\n",
       "      <td>NaN</td>\n",
       "      <td>NaN</td>\n",
       "      <td>360 00000</td>\n",
       "    </tr>\n",
       "    <tr>\n",
       "      <th>3</th>\n",
       "      <td>house</td>\n",
       "      <td>Colombo 6</td>\n",
       "      <td>NaN</td>\n",
       "      <td>4 bedroom</td>\n",
       "      <td>3 bathroom</td>\n",
       "      <td>2500 sqft</td>\n",
       "      <td>NaN</td>\n",
       "      <td>0773867704</td>\n",
       "      <td>NaN</td>\n",
       "    </tr>\n",
       "    <tr>\n",
       "      <th>4</th>\n",
       "      <td>NaN</td>\n",
       "      <td>piliyandala</td>\n",
       "      <td>6 p</td>\n",
       "      <td>2</td>\n",
       "      <td>bathroom</td>\n",
       "      <td>NaN</td>\n",
       "      <td>NaN</td>\n",
       "      <td>NaN</td>\n",
       "      <td>NaN</td>\n",
       "    </tr>\n",
       "  </tbody>\n",
       "</table>\n",
       "</div>"
      ],
      "text/plain": [
       "  Property_type      Address Area_of_Land   Bedrooms   Bathrooms  \\\n",
       "0         house      Colombo     12 perch  4 bedroom  3 bathroom   \n",
       "1         house    ratmalana    118 perch  3 bedroom    2 toilet   \n",
       "2           NaN    katubedda     19 perch        NaN  2 bathroom   \n",
       "3         house    Colombo 6          NaN  4 bedroom  3 bathroom   \n",
       "4           NaN  piliyandala          6 p          2    bathroom   \n",
       "\n",
       "  Property_size Advertiser contact_num           Price  \n",
       "0       3000 sq   thushara         NaN  price 28000000  \n",
       "1           NaN       rear  0773890545       r 3000000  \n",
       "2           NaN        NaN         NaN       360 00000  \n",
       "3     2500 sqft        NaN  0773867704             NaN  \n",
       "4           NaN        NaN         NaN             NaN  "
      ]
     },
     "execution_count": 237,
     "metadata": {},
     "output_type": "execute_result"
    }
   ],
   "source": [
    "data = pd.DataFrame.from_dict(data_dic,orient='index')\n",
    "data=data.transpose()\n",
    "data.head(5)"
   ]
  },
  {
   "cell_type": "code",
   "execution_count": 241,
   "metadata": {},
   "outputs": [],
   "source": [
    "extract_data = data.to_csv(r'D:\\R & D PROJECT\\Test_text\\extract_data.csv',index=False)"
   ]
  },
  {
   "cell_type": "code",
   "execution_count": 249,
   "metadata": {},
   "outputs": [
    {
     "data": {
      "text/html": [
       "<div>\n",
       "<style scoped>\n",
       "    .dataframe tbody tr th:only-of-type {\n",
       "        vertical-align: middle;\n",
       "    }\n",
       "\n",
       "    .dataframe tbody tr th {\n",
       "        vertical-align: top;\n",
       "    }\n",
       "\n",
       "    .dataframe thead th {\n",
       "        text-align: right;\n",
       "    }\n",
       "</style>\n",
       "<table border=\"1\" class=\"dataframe\">\n",
       "  <thead>\n",
       "    <tr style=\"text-align: right;\">\n",
       "      <th></th>\n",
       "      <th>Property_type</th>\n",
       "      <th>Address</th>\n",
       "      <th>Area_of_Land</th>\n",
       "      <th>Bedrooms</th>\n",
       "      <th>Bathrooms</th>\n",
       "      <th>Property_size</th>\n",
       "      <th>Advertiser</th>\n",
       "      <th>contact_num</th>\n",
       "      <th>Price</th>\n",
       "    </tr>\n",
       "  </thead>\n",
       "  <tbody>\n",
       "    <tr>\n",
       "      <th>0</th>\n",
       "      <td>house</td>\n",
       "      <td>Colombo</td>\n",
       "      <td>12 perch</td>\n",
       "      <td>4 bedroom</td>\n",
       "      <td>3 bathroom</td>\n",
       "      <td>3000 sq</td>\n",
       "      <td>thushara</td>\n",
       "      <td>NaN</td>\n",
       "      <td>price 28000000</td>\n",
       "    </tr>\n",
       "    <tr>\n",
       "      <th>1</th>\n",
       "      <td>house</td>\n",
       "      <td>ratmalana</td>\n",
       "      <td>118 perch</td>\n",
       "      <td>3 bedroom</td>\n",
       "      <td>2 toilet</td>\n",
       "      <td>NaN</td>\n",
       "      <td>rear</td>\n",
       "      <td>773890545.0</td>\n",
       "      <td>r 3000000</td>\n",
       "    </tr>\n",
       "    <tr>\n",
       "      <th>2</th>\n",
       "      <td>NaN</td>\n",
       "      <td>katubedda</td>\n",
       "      <td>19 perch</td>\n",
       "      <td>NaN</td>\n",
       "      <td>2 bathroom</td>\n",
       "      <td>NaN</td>\n",
       "      <td>NaN</td>\n",
       "      <td>NaN</td>\n",
       "      <td>360 00000</td>\n",
       "    </tr>\n",
       "    <tr>\n",
       "      <th>3</th>\n",
       "      <td>house</td>\n",
       "      <td>Colombo 6</td>\n",
       "      <td>NaN</td>\n",
       "      <td>4 bedroom</td>\n",
       "      <td>3 bathroom</td>\n",
       "      <td>2500 sqft</td>\n",
       "      <td>NaN</td>\n",
       "      <td>773867704.0</td>\n",
       "      <td>NaN</td>\n",
       "    </tr>\n",
       "    <tr>\n",
       "      <th>4</th>\n",
       "      <td>NaN</td>\n",
       "      <td>piliyandala</td>\n",
       "      <td>6 p</td>\n",
       "      <td>2</td>\n",
       "      <td>bathroom</td>\n",
       "      <td>NaN</td>\n",
       "      <td>NaN</td>\n",
       "      <td>NaN</td>\n",
       "      <td>NaN</td>\n",
       "    </tr>\n",
       "  </tbody>\n",
       "</table>\n",
       "</div>"
      ],
      "text/plain": [
       "  Property_type      Address Area_of_Land   Bedrooms   Bathrooms  \\\n",
       "0         house      Colombo     12 perch  4 bedroom  3 bathroom   \n",
       "1         house    ratmalana    118 perch  3 bedroom    2 toilet   \n",
       "2           NaN    katubedda     19 perch        NaN  2 bathroom   \n",
       "3         house    Colombo 6          NaN  4 bedroom  3 bathroom   \n",
       "4           NaN  piliyandala          6 p          2    bathroom   \n",
       "\n",
       "  Property_size Advertiser  contact_num           Price  \n",
       "0       3000 sq   thushara          NaN  price 28000000  \n",
       "1           NaN       rear  773890545.0       r 3000000  \n",
       "2           NaN        NaN          NaN       360 00000  \n",
       "3     2500 sqft        NaN  773867704.0             NaN  \n",
       "4           NaN        NaN          NaN             NaN  "
      ]
     },
     "execution_count": 249,
     "metadata": {},
     "output_type": "execute_result"
    }
   ],
   "source": [
    "data = pd.read_csv(r'D:\\R & D PROJECT\\Test_text\\extract_data.csv')\n",
    "data.head()"
   ]
  },
  {
   "cell_type": "code",
   "execution_count": null,
   "metadata": {},
   "outputs": [],
   "source": []
  }
 ],
 "metadata": {
  "interpreter": {
   "hash": "8867321196b4aed495a8cb57ae795b5cb9f69b50030feb2979c26ed6dde2da6a"
  },
  "kernelspec": {
   "display_name": "Python 3 (ipykernel)",
   "language": "python",
   "name": "python3"
  },
  "language_info": {
   "codemirror_mode": {
    "name": "ipython",
    "version": 3
   },
   "file_extension": ".py",
   "mimetype": "text/x-python",
   "name": "python",
   "nbconvert_exporter": "python",
   "pygments_lexer": "ipython3",
   "version": "3.9.7"
  }
 },
 "nbformat": 4,
 "nbformat_minor": 2
}
