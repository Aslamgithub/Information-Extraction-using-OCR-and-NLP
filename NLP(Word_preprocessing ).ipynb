{
 "cells": [
  {
   "cell_type": "markdown",
   "metadata": {},
   "source": [
    "# Natural Language Processing"
   ]
  },
  {
   "cell_type": "markdown",
   "metadata": {},
   "source": [
    "# This notebook is for Text prepocessing using NLTK library\n",
    "# Here we follow the processes to clean the textual data for our final output database\n",
    "1. Import needed libraries\n",
    "2. Open text file\n",
    "3. remove newlines, join the text based of advertise & normalize (lowercase) the text\n",
    "4. Contractions Replacement & Replace Important text for variable.\n",
    "5. Punctuations Removal\n",
    "6. tokenize the word, stop words & custom words removal\n",
    "7. Repeating characters removal (Typeing errors Ex: Bedrooom - Bedroom)\n",
    "8. Check the spelling of words and correct them\n",
    "9. Merge the tokenize text to list\n",
    "10. Replace word numbers to integer numbers\n",
    "11. Lemmitizations"
   ]
  },
  {
   "cell_type": "markdown",
   "metadata": {},
   "source": [
    "# Libararies"
   ]
  },
  {
   "cell_type": "code",
   "execution_count": 1,
   "metadata": {},
   "outputs": [],
   "source": [
    "from nltk.tokenize import word_tokenize\n",
    "import pandas as pd\n",
    "import re\n",
    "from nltk.corpus import stopwords\n",
    "from itertools import groupby"
   ]
  },
  {
   "cell_type": "code",
   "execution_count": 2,
   "metadata": {},
   "outputs": [],
   "source": [
    "# Open text file\n",
    "with open(r\"D:\\R & D PROJECT\\Test_text\\Test_Text.txt\", \"r\") as filename:\n",
    "    advertise_lines = filename.readlines()"
   ]
  },
  {
   "cell_type": "markdown",
   "metadata": {},
   "source": [
    "# Text Preprocessing"
   ]
  },
  {
   "cell_type": "code",
   "execution_count": 3,
   "metadata": {},
   "outputs": [
    {
     "data": {
      "text/plain": [
       "['new line\\n',\n",
       " 'TWO STOREY HOUSE FOR SALE - NEGONBO\\n',\n",
       " '\\n',\n",
       " 'Two storey air conditioned house for sale\\n',\n",
       " '\\n',\n",
       " 'at Thushara Mawatha. 2 mins to Negombo\\n',\n",
       " '\\n',\n",
       " 'Colombo Road. 5 mins to Negombo Town.\\n',\n",
       " 'Lobby, Living, Dinning,-Ki Kitchen Pantry, Balcony\\n',\n",
       " '\\n',\n",
       " '4 bed rooms, 3 bathrooms; 3000 sq feet, solar\\n',\n",
       " 'power hot water’ ‘system nmatap water with upper\\n',\n",
       " '& down tanks, Garbage service 3 times a week\\n',\n",
       " 'Land area 12 perches\\n',\n",
       " 'PRICE - 28000000/= Negotiable\\n',\n",
       " '\\n',\n",
       " 'TEL : 076 53312545\\n',\n",
       " '\\n']"
      ]
     },
     "execution_count": 3,
     "metadata": {},
     "output_type": "execute_result"
    }
   ],
   "source": [
    "advertise_lines[:18]"
   ]
  },
  {
   "cell_type": "markdown",
   "metadata": {},
   "source": [
    "# Remove new lines and join the text"
   ]
  },
  {
   "cell_type": "code",
   "execution_count": 4,
   "metadata": {},
   "outputs": [],
   "source": [
    "# Join the lines and Remove punctuation\n",
    "newline = \"\\n\".join ([line.strip() for line in advertise_lines])\n",
    "combine_ad_lst = []\n",
    "for line in newline.split(\"new line\"):\n",
    "    if not line.strip():\n",
    "            continue\n",
    "    combine_ad_lst.append(line.lstrip().lower())\n",
    "ad_list = [new.replace(\"\\n\", \" \") for new in combine_ad_lst]"
   ]
  },
  {
   "cell_type": "code",
   "execution_count": 5,
   "metadata": {},
   "outputs": [
    {
     "data": {
      "text/plain": [
       "['two storey house for sale - negonbo  two storey air conditioned house for sale  at thushara mawatha. 2 mins to negombo  colombo road. 5 mins to negombo town. lobby, living, dinning,-ki kitchen pantry, balcony  4 bed rooms, 3 bathrooms; 3000 sq feet, solar power hot water’ ‘system nmatap water with upper & down tanks, garbage service 3 times a week land area 12 perches price - 28000000/= negotiable  tel : 076 53312545   ',\n",
       " 'ratmalana  house for sale  ratmalana - borupana road 11.8 perches land and house for sale. 3 bedrooms, 2 toilets (one attached) hall, dining hal!, pantry and kitchen.  wall right round with front garden, rear garden and with two court yards walking distance to cargills super and kdu. rs. 32 million, negotiable. no brokers, only genuine buyers.  077°38 90 545   ',\n",
       " 'katubedda  pbalwis perera mawatha, 300 m from galle road, 4 spacious bedrooms, 2 attached bathrooms, large living and dining area, spacious pantry, outside extra  kitchen, toilet, garage, parapet wall around 19 perches. asking price 360 lakhs. inspection by appointment only    oyvar ery aey(e) ',\n",
       " 'modern luxury house for rent in colombo -6  e 2500sa.ft * 4bedrooms with a/c * 3bathrooms with hot t water  « parking for 2 with  rollef shutter gate. iz unfurnished upstair ‘house i: e rent 225k pm - negotiable.  ¢ garden & backyard available.  contact: 0773867704 —   ',\n",
       " 'kotagedara - piliyandala  modern house, 2 bedroomed in 6p, complete a/c, cctv, wiremesh with razor blades arround. the boundary wall, wall cupboards in tws vo beara, rol roller gate, fully tiled. i  the upper floor complete with slab for immediate sale, 3 owner migrating. bathroom one with shower cubicle and servants wash room.  077 7 668 357  kotagedara, piliyandala.   ']"
      ]
     },
     "execution_count": 5,
     "metadata": {},
     "output_type": "execute_result"
    }
   ],
   "source": [
    "ad_list[:5]"
   ]
  },
  {
   "cell_type": "code",
   "execution_count": 6,
   "metadata": {},
   "outputs": [
    {
     "data": {
      "text/plain": [
       "178"
      ]
     },
     "execution_count": 6,
     "metadata": {},
     "output_type": "execute_result"
    }
   ],
   "source": [
    "len(ad_list)"
   ]
  },
  {
   "cell_type": "markdown",
   "metadata": {},
   "source": [
    "# Punctuations"
   ]
  },
  {
   "cell_type": "code",
   "execution_count": 7,
   "metadata": {},
   "outputs": [
    {
     "data": {
      "text/plain": [
       "'!\"#$%&\\'()*+,-./:;<=>?@[\\\\]^_`{|}~'"
      ]
     },
     "execution_count": 7,
     "metadata": {},
     "output_type": "execute_result"
    }
   ],
   "source": [
    "import string\n",
    "string.punctuation"
   ]
  },
  {
   "cell_type": "code",
   "execution_count": 8,
   "metadata": {},
   "outputs": [],
   "source": [
    "def clean(punlist):\n",
    "    punc_clean_lst = []\n",
    "    punc = '''!\"#$%&\\'()*+,-‘./:;<=>?@[\\\\]^_`¢{|}~«»—©®°'''\n",
    "    for text in punlist:\n",
    "        text_punc = \"\".join([word for word in text if word not in punc])\n",
    "        singl_char = ' '.join( [re.sub(r\"\\b[a-zA-Z]\\b\", \"\", w) for w in text_punc.split()]) # remove singel string character only \n",
    "        num_char = re.sub(r'(?<=\\d) (?=\\d)', '', singl_char)\n",
    "        punc_clean_lst.append(num_char)\n",
    "    return punc_clean_lst\n",
    "punc_clean_lst=clean(ad_list)"
   ]
  },
  {
   "cell_type": "code",
   "execution_count": 9,
   "metadata": {},
   "outputs": [
    {
     "data": {
      "text/plain": [
       "['two storey house for sale negonbo two storey air conditioned house for sale at thushara mawatha 2 mins to negombo colombo road 5 mins to negombo town lobby living dinningki kitchen pantry balcony 4 bed rooms 3 bathrooms 3000 sq feet solar power hot water’ system nmatap water with upper down tanks garbage service 3 times  week land area 12 perches price 28000000 negotiable tel 07653312545',\n",
       " 'ratmalana house for sale ratmalana borupana road 118 perches land and house for sale 3 bedrooms 2 toilets one attached hall dining hal pantry and kitchen wall right round with front garden rear garden and with two court yards walking distance to cargills super and kdu rs 32 million negotiable no brokers only genuine buyers 0773890545',\n",
       " 'katubedda pbalwis perera mawatha 300  from galle road 4 spacious bedrooms 2 attached bathrooms large living and dining area spacious pantry outside extra kitchen toilet garage parapet wall around 19 perches asking price 360 lakhs inspection by appointment only oyvar ery aeye',\n",
       " 'modern luxury house for rent in colombo 6  2500saft 4bedrooms with ac 3bathrooms with hot  water parking for 2 with rollef shutter gate iz unfurnished upstair house   rent 225k pm negotiable garden backyard available contact 0773867704',\n",
       " 'kotagedara piliyandala modern house 2 bedroomed in 6p complete ac cctv wiremesh with razor blades arround the boundary wall wall cupboards in tws vo beara rol roller gate fully tiled  the upper floor complete with slab for immediate sale 3 owner migrating bathroom one with shower cubicle and servants wash room 0777668357 kotagedara piliyandala']"
      ]
     },
     "execution_count": 9,
     "metadata": {},
     "output_type": "execute_result"
    }
   ],
   "source": [
    "punc_clean_lst[:5]"
   ]
  },
  {
   "cell_type": "markdown",
   "metadata": {},
   "source": [
    "# Contractions replacement "
   ]
  },
  {
   "cell_type": "code",
   "execution_count": 10,
   "metadata": {},
   "outputs": [],
   "source": [
    "replacement_patterns = [\n",
    "                (r'won\\'t', 'will not'),\n",
    "                (r'can\\'t', 'cannot'),\n",
    "                (r'i\\'m', 'i am'),\n",
    "                (r'ain\\'t', 'is not'),\n",
    "                (r'(\\w+)\\'ll', '\\g<1> will'),\n",
    "                (r'(\\w+)n\\'t', '\\g<1> not'),\n",
    "                (r'(\\w+)\\'ve', '\\g<1> have'),\n",
    "                (r'(\\w+)\\'s', '\\g<1> is'),\n",
    "                (r'(\\w+)\\'re', '\\g<1> are'),\n",
    "                (r'(\\w+)\\'d', '\\g<1> would')\n",
    "                ]"
   ]
  },
  {
   "cell_type": "code",
   "execution_count": 11,
   "metadata": {},
   "outputs": [],
   "source": [
    "class RegexpReplacer(object):\n",
    "    def __init__(self, patterns=replacement_patterns):\n",
    "        self.patterns = [(re.compile(regex), repl) for (regex, repl) in patterns]\n",
    "    \n",
    "    def replace(self, text):\n",
    "        s = text\n",
    "        for (pattern, repl) in self.patterns:\n",
    "            s = re.sub(pattern, repl, s)\n",
    "        return s\n",
    "\n",
    "replacer = RegexpReplacer()\n",
    "cont_rep_lst = [replacer.replace(contraction) for contraction in punc_clean_lst]"
   ]
  },
  {
   "cell_type": "code",
   "execution_count": 12,
   "metadata": {},
   "outputs": [
    {
     "data": {
      "text/plain": [
       "'ratmalana house for sale ratmalana borupana road 118 perches land and house for sale 3 bedrooms 2 toilets one attached hall dining hal pantry and kitchen wall right round with front garden rear garden and with two court yards walking distance to cargills super and kdu rs 32 million negotiable no brokers only genuine buyers 0773890545'"
      ]
     },
     "execution_count": 12,
     "metadata": {},
     "output_type": "execute_result"
    }
   ],
   "source": [
    "cont_rep_lst[1]"
   ]
  },
  {
   "cell_type": "markdown",
   "metadata": {},
   "source": [
    "# Word tokenize and Stop word removal"
   ]
  },
  {
   "cell_type": "code",
   "execution_count": 13,
   "metadata": {},
   "outputs": [],
   "source": [
    "custom_stop = ['sale','rent','land','phone','date','email','please','call','details','sri' ,'lanka','style','beautiful','modern','contact','attached','new','brand','negotiable']"
   ]
  },
  {
   "cell_type": "code",
   "execution_count": 14,
   "metadata": {},
   "outputs": [],
   "source": [
    "def preprocessing(textlist):\n",
    "\n",
    "    word_token =[]\n",
    "    for lists in textlist:\n",
    "        word_token.append(word_tokenize(lists))\n",
    "\n",
    "    \n",
    "    tokenized_word = [[] for i in range(len(word_token))]\n",
    "    stop = stopwords.words('english')\n",
    "    stop.extend(custom_stop)\n",
    "    for i in range(len(word_token)):\n",
    "        for lst in word_token[i]: \n",
    "            if lst not in stop:\n",
    "                tokenized_word[i].append(lst)\n",
    "                \n",
    "    return tokenized_word\n",
    "tokenize_list=preprocessing(cont_rep_lst)\n",
    "col_cleaned_list = [lst for lst in tokenize_list if len(lst)>15] # 2 pages pdf splited as 2 images so remove non content set\n",
    "cont_num_trim_list = [[s[:10] if s.isdigit() else s for s in sub] for sub in col_cleaned_list]"
   ]
  },
  {
   "cell_type": "code",
   "execution_count": 15,
   "metadata": {},
   "outputs": [
    {
     "name": "stdout",
     "output_type": "stream",
     "text": [
      "['ratmalana', 'house', 'ratmalana', 'borupana', 'road', '118', 'perches', 'land', 'house', '3', 'bedrooms', '2', 'toilets', 'one', 'hall', 'dining', 'hal', 'pantry', 'kitchen', 'wall', 'right', 'round', 'front', 'garden', 'rear', 'garden', 'two', 'court', 'yards', 'walking', 'distance', 'cargills', 'super', 'kdu', 'rs', '32', 'million', 'brokers', 'genuine', 'buyers', '0773890545']\n"
     ]
    }
   ],
   "source": [
    "print(cont_num_trim_list[1])"
   ]
  },
  {
   "cell_type": "markdown",
   "metadata": {},
   "source": [
    "# Separate the numbers and sting from the list"
   ]
  },
  {
   "cell_type": "code",
   "execution_count": 16,
   "metadata": {},
   "outputs": [
    {
     "name": "stdout",
     "output_type": "stream",
     "text": [
      "['ratmalana', 'house', 'ratmalana', 'borupana', 'road', '118', 'perches', 'land', 'house', '3', 'bedrooms', '2', 'toilets', 'one', 'hall', 'dining', 'hal', 'pantry', 'kitchen', 'wall', 'right', 'round', 'front', 'garden', 'rear', 'garden', 'two', 'court', 'yards', 'walking', 'distance', 'cargills', 'super', 'kdu', 'rs', '32', 'million', 'brokers', 'genuine', 'buyers', '0773890545']\n"
     ]
    }
   ],
   "source": [
    "sep_num_char_lst = []\n",
    "for lsts in cont_num_trim_list:\n",
    "    charnum_lst = [[''.join(g) for _, g in groupby(num_char, str.isalpha)] for num_char in lsts]\n",
    "    comp_lst = [char for sep_char in charnum_lst for char in sep_char]\n",
    "    sep_num_char_lst.append(comp_lst)\n",
    "print(sep_num_char_lst[1])"
   ]
  },
  {
   "cell_type": "code",
   "execution_count": 17,
   "metadata": {},
   "outputs": [],
   "source": [
    "#uniq_val_lst = [list(set(lst)) for lst in prepros_list]    #unique characters"
   ]
  },
  {
   "cell_type": "markdown",
   "metadata": {},
   "source": [
    "# Repeating Charactors"
   ]
  },
  {
   "cell_type": "code",
   "execution_count": 18,
   "metadata": {},
   "outputs": [],
   "source": [
    "import re\n",
    "from nltk.corpus import wordnet\n",
    "class RepeatReplacer(object):\n",
    "    def __init__(self):\n",
    "        self.repeat_regexp = re.compile(r'(\\[a-zA-Z]*)(\\[a-zA-Z])\\2(\\[a-zA-Z]*)')    # 0 or more repeat char in first, middle and last\n",
    "        self.repl = r'\\1\\2\\3'\n",
    "    def replace(self, word):\n",
    "        if wordnet.synsets(word):\n",
    "            return word\n",
    "        repl_word = self.repeat_regexp.sub(self.repl, word)\n",
    "        if repl_word != word:\n",
    "            return self.replace(repl_word)\n",
    "        else:\n",
    "            return repl_word"
   ]
  },
  {
   "cell_type": "code",
   "execution_count": 19,
   "metadata": {},
   "outputs": [
    {
     "name": "stdout",
     "output_type": "stream",
     "text": [
      "['ratmalana', 'house', 'ratmalana', 'borupana', 'road', '118', 'perches', 'land', 'house', '3', 'bedrooms', '2', 'toilets', 'one', 'hall', 'dining', 'hal', 'pantry', 'kitchen', 'wall', 'right', 'round', 'front', 'garden', 'rear', 'garden', 'two', 'court', 'yards', 'walking', 'distance', 'cargills', 'super', 'kdu', 'rs', '32', 'million', 'brokers', 'genuine', 'buyers', '0773890545']\n"
     ]
    }
   ],
   "source": [
    "rep_replacer = RepeatReplacer()\n",
    "rep_char_cleaned_lst = [[rep_replacer.replace(txt) for txt in lst] for lst in sep_num_char_lst]\n",
    "print(rep_char_cleaned_lst[1])"
   ]
  },
  {
   "cell_type": "markdown",
   "metadata": {},
   "source": [
    "# Spelling checking"
   ]
  },
  {
   "cell_type": "code",
   "execution_count": 20,
   "metadata": {},
   "outputs": [],
   "source": [
    "#!pip install pyenchant"
   ]
  },
  {
   "cell_type": "code",
   "execution_count": 21,
   "metadata": {},
   "outputs": [],
   "source": [
    "import enchant\n",
    "from nltk.metrics import edit_distance\n",
    "class SpellingReplacer(object):\n",
    "    def __init__(self, dict_name='en_GB', max_dist=2):\n",
    "        self.spell_dict = enchant.Dict(dict_name)\n",
    "        self.max_dist = max_dist\n",
    "    def replace(self, word):\n",
    "        if self.spell_dict.check(word):\n",
    "            return word\n",
    "        suggestions = self.spell_dict.suggest(word)\n",
    "        if suggestions and edit_distance(word, suggestions[0]) <= self.max_dist:\n",
    "            return suggestions[0]\n",
    "        else:\n",
    "            return word"
   ]
  },
  {
   "cell_type": "code",
   "execution_count": 22,
   "metadata": {},
   "outputs": [
    {
     "name": "stdout",
     "output_type": "stream",
     "text": [
      "['ratmalana', 'house', 'ratmalana', 'borupana', 'road', '118', 'perches', 'land', 'house', '3', 'bedrooms', '2', 'toilets', 'one', 'hall', 'dining', 'Hal', 'pantry', 'kitchen', 'wall', 'right', 'round', 'front', 'garden', 'rear', 'garden', 'two', 'court', 'yards', 'walking', 'distance', 'car gills', 'super', 'kudu', 'rs', '32', 'million', 'brokers', 'genuine', 'buyers', '0773890545']\n"
     ]
    }
   ],
   "source": [
    "spel_replacer = SpellingReplacer()\n",
    "spell_corr_lst = [[spel_replacer .replace(txt) for txt in lst] for lst in rep_char_cleaned_lst]\n",
    "print(spell_corr_lst[1])"
   ]
  },
  {
   "cell_type": "markdown",
   "metadata": {},
   "source": [
    "# Lemmatizing"
   ]
  },
  {
   "cell_type": "code",
   "execution_count": 23,
   "metadata": {},
   "outputs": [],
   "source": [
    "from textblob import Word\n",
    "lem_text = [[] for i in range(len(spell_corr_lst))]\n",
    "for i in range(len(spell_corr_lst)):\n",
    "    for word in spell_corr_lst[i]:\n",
    "        txt = Word(word).lemmatize()\n",
    "        lem_text[i].append(txt)"
   ]
  },
  {
   "cell_type": "code",
   "execution_count": 24,
   "metadata": {},
   "outputs": [
    {
     "name": "stdout",
     "output_type": "stream",
     "text": [
      "['ratmalana', 'house', 'ratmalana', 'borupana', 'road', '118', 'perch', 'land', 'house', '3', 'bedroom', '2', 'toilet', 'one', 'hall', 'dining', 'Hal', 'pantry', 'kitchen', 'wall', 'right', 'round', 'front', 'garden', 'rear', 'garden', 'two', 'court', 'yard', 'walking', 'distance', 'car gills', 'super', 'kudu', 'r', '32', 'million', 'broker', 'genuine', 'buyer', '0773890545']\n"
     ]
    }
   ],
   "source": [
    "print(lem_text[1])"
   ]
  },
  {
   "cell_type": "markdown",
   "metadata": {},
   "source": [
    "# Merge Tokenize words"
   ]
  },
  {
   "cell_type": "code",
   "execution_count": 25,
   "metadata": {},
   "outputs": [],
   "source": [
    "def untokenize(ad_lsts):\n",
    "    untokized_lst = []\n",
    "    for lst in ad_lsts:\n",
    "        text = ' '.join(lst)\n",
    "        step1 = text.replace(\"`` \", '\"').replace(\" ''\", '\"')\n",
    "        step2 = re.sub(r' ([.,:;?!%]+)([ \\'\"`])', r\"\\1\\2\", step1)\n",
    "        untokized_lst.append(step2.strip())\n",
    "    return untokized_lst"
   ]
  },
  {
   "cell_type": "code",
   "execution_count": 26,
   "metadata": {},
   "outputs": [
    {
     "data": {
      "text/plain": [
       "['two storey house negonbo two storey air conditioned house thushara Hiawatha 2 mind negombo Colombo road 5 mind negombo town lobby living dinning ki kitchen pantry balcony 4 bed room 3 bathroom 3000 sq foot solar power hot water e system nmatap water upper tank garbage service 3 time week land area 12 perch price 28000000 tel 0765331254',\n",
       " 'ratmalana house ratmalana borupana road 118 perch land house 3 bedroom 2 toilet one hall dining Hal pantry kitchen wall right round front garden rear garden two court yard walking distance car gills super kudu r 32 million broker genuine buyer 0773890545',\n",
       " 'katubedda pbalwis per era Hiawatha 300 Galle road 4 spacious bedroom 2 bathroom large living dining area spacious pantry outside extra kitchen toilet garage parapet wall around 19 perch asking price 360 lakh inspection appointment ovary wry aye',\n",
       " 'luxury house Colombo 6 2500 fast 4 bedroom ac 3 bathroom hot water parking 2 rolled shutter gate oz unfurnished upstairs house 225 k pm garden backyard available 0773867704',\n",
       " 'kotagedara piliyandala house 2 bed roomed 6 p complete ac cctv wire mesh razor blade around boundary wall wall cupboard t vo bear role roller gate fully tiled upper floor complete slab immediate 3 owner migrating bathroom one shower cubicle servant wash room 0777668357 kotagedara piliyandala']"
      ]
     },
     "execution_count": 26,
     "metadata": {},
     "output_type": "execute_result"
    }
   ],
   "source": [
    "untokenized_lst=untokenize(lem_text)\n",
    "untokenized_lst[:5]"
   ]
  },
  {
   "cell_type": "markdown",
   "metadata": {},
   "source": [
    "# Custom words replacement"
   ]
  },
  {
   "cell_type": "code",
   "execution_count": 27,
   "metadata": {},
   "outputs": [],
   "source": [
    "custom_word = [ (r'\\smn', 'million'),\n",
    "                (r'\\d\\smillion','000000'),\n",
    "                 (r'sq\\sft', 'sqft'),\n",
    "                 (r'fast', 'sqft'),\n",
    "                 (r'sift', 'sqft'),\n",
    "                (r'lkh', 'lakh'),\n",
    "                (r'lakh', '00000'),\n",
    "                (r'bn', 'billion'),\n",
    "                (r'barth', 'bath'),\n",
    "                (r'bath\\sroom', 'bathroom'),\n",
    "                (r'bed\\sroom', 'bedroom'),\n",
    "                (r'toilel', 'bathroom'),\n",
    "                (r'wash\\sroom', 'bathroom')\n",
    "          ]"
   ]
  },
  {
   "cell_type": "code",
   "execution_count": 28,
   "metadata": {},
   "outputs": [],
   "source": [
    "class CustomReplacer(object):\n",
    "    def __init__(self, patterns=custom_word):\n",
    "        self.patterns = [(re.compile(regex), repl) for (regex, repl) in patterns]\n",
    "    \n",
    "    def replace(self, text):\n",
    "        s = text\n",
    "        for (pattern, repl) in self.patterns:\n",
    "            s = re.sub(pattern, repl, s)\n",
    "        return s\n",
    "\n",
    "replacer = CustomReplacer()\n",
    "costum_word_rep_lst = [replacer.replace(contraction) for contraction in untokenized_lst]"
   ]
  },
  {
   "cell_type": "code",
   "execution_count": 29,
   "metadata": {},
   "outputs": [
    {
     "data": {
      "text/plain": [
       "['two storey house negonbo two storey air conditioned house thushara Hiawatha 2 mind negombo Colombo road 5 mind negombo town lobby living dinning ki kitchen pantry balcony 4 bedroom 3 bathroom 3000 sq foot solar power hot water e system nmatap water upper tank garbage service 3 time week land area 12 perch price 28000000 tel 0765331254',\n",
       " 'ratmalana house ratmalana borupana road 118 perch land house 3 bedroom 2 toilet one hall dining Hal pantry kitchen wall right round front garden rear garden two court yard walking distance car gills super kudu r 3000000 broker genuine buyer 0773890545',\n",
       " 'katubedda pbalwis per era Hiawatha 300 Galle road 4 spacious bedroom 2 bathroom large living dining area spacious pantry outside extra kitchen toilet garage parapet wall around 19 perch asking price 360 00000 inspection appointment ovary wry aye',\n",
       " 'luxury house Colombo 6 2500 sqft 4 bedroom ac 3 bathroom hot water parking 2 rolled shutter gate oz unfurnished upstairs house 225 k pm garden backyard available 0773867704',\n",
       " 'kotagedara piliyandala house 2 bedroomed 6 p complete ac cctv wire mesh razor blade around boundary wall wall cupboard t vo bear role roller gate fully tiled upper floor complete slab immediate 3 owner migrating bathroom one shower cubicle servant bathroom 0777668357 kotagedara piliyandala',\n",
       " 'thalawathugoda 75 perch 3100 sqft e 2 foe hanagrohe fug hogan pantile 168 price e 3 provision fer cctv Deena 38 m tegossne 20 h road broker',\n",
       " 'luxury house house desalts 425 perch 8500 sqft malm house ground floor double garage security roomy sitting dinning pantry Chechen servant room toilet bedroom 3 toll sun din first floor cree e TV bothy two room tolgty master rect ar cone in bait solar power annex one parking vehicle location second floor dinning sitting pantry servant room toilet one room tolled master bedroom toilet plus attic air conditioned solar power miscount 5000000 furniture tr ego e 0772626549',\n",
       " 'Colombo 05 exclusive residential area 10 perch 5 bedroom 4 toilet separate servant room toilet covered parking 2 vehicle quick highest bid 0718287756',\n",
       " 'Anuradhapura near wilpattu junction luxury house garden migrate ad ideal fully tied house 4 bedroom 02 bathroom garden filled 8 coconut tree 3 king coconut jack fruit bread fruit fruit mango nellee cherry papaya cashew passion fruit land house 110 perch surrounding air port fencing solar power hot water master bedroom air conditioned aa 171519002 m 9 f domshegilyahooom',\n",
       " '7 g delkanda nugegoda architectural designed 7 spacious bedroom 5 bathroom 2 living room large kitchen sp private garden sea entrance 2 ND floor could used 2 unit business property house 19 perch close proximity high level road 5 udahamulia railway station sri jayawardenepura university bank grocery 8477040155 trave']"
      ]
     },
     "execution_count": 29,
     "metadata": {},
     "output_type": "execute_result"
    }
   ],
   "source": [
    "costum_word_rep_lst[:10]"
   ]
  },
  {
   "cell_type": "markdown",
   "metadata": {},
   "source": [
    "# Replace word numbers as integer numbers"
   ]
  },
  {
   "cell_type": "code",
   "execution_count": 30,
   "metadata": {},
   "outputs": [],
   "source": [
    "def text2int(textnum, numwords={}):\n",
    "    if not numwords:\n",
    "        units = [\n",
    "        \"zero\", \"one\", \"two\", \"three\", \"four\", \"five\", \"six\", \"seven\", \"eight\",\n",
    "        \"nine\", \"ten\", \"eleven\", \"twelve\", \"thirteen\", \"fourteen\", \"fifteen\",\n",
    "        \"sixteen\", \"seventeen\", \"eighteen\", \"nineteen\",\n",
    "        ]\n",
    "\n",
    "        tens = [\"\", \"\", \"twenty\", \"thirty\", \"forty\", \"fifty\", \"sixty\", \"seventy\", \"eighty\", \"ninety\"]\n",
    "\n",
    "        scales = [\"hundred\", \"thousand\", \"million\", \"billion\", \"trillion\"]\n",
    "\n",
    "        numwords[\"and\"] = (1, 0)\n",
    "        for idx, word in enumerate(units):  numwords[word] = (1, idx)\n",
    "        for idx, word in enumerate(tens):       numwords[word] = (1, idx * 10)\n",
    "        for idx, word in enumerate(scales): numwords[word] = (10 ** (idx * 3 or 2), 0)\n",
    "\n",
    "    ordinal_words = {'first':1, 'second':2, 'third':3, 'fifth':5, 'eighth':8, 'ninth':9, 'twelfth':12}\n",
    "    ordinal_endings = [('ieth', 'y'), ('th', '')]\n",
    "\n",
    "    textnum = textnum.replace('-', ' ')\n",
    "\n",
    "    current = result = 0\n",
    "    curstring = \"\"\n",
    "    onnumber = False\n",
    "    for word in textnum.split():\n",
    "        if word in ordinal_words:\n",
    "            scale, increment = (1, ordinal_words[word])\n",
    "            current = current * scale + increment\n",
    "            if scale > 100:\n",
    "                result += current\n",
    "                current = 0\n",
    "            onnumber = True\n",
    "        else:\n",
    "            for ending, replacement in ordinal_endings:\n",
    "                if word.endswith(ending):\n",
    "                    word = \"%s%s\" % (word[:-len(ending)], replacement)\n",
    "\n",
    "            if word not in numwords:\n",
    "                if onnumber:\n",
    "                    curstring += repr(result + current) + \" \"\n",
    "                curstring += word + \" \"\n",
    "                result = current = 0\n",
    "                onnumber = False\n",
    "            else:\n",
    "                scale, increment = numwords[word]\n",
    "\n",
    "                current = current * scale + increment\n",
    "                if scale > 100:\n",
    "                    result += current\n",
    "                    current = 0\n",
    "                onnumber = True\n",
    "\n",
    "    if onnumber:\n",
    "        curstring += repr(result + current)\n",
    "\n",
    "    return curstring\n",
    "final_preprocessed_lst = [text2int(text) for text in costum_word_rep_lst] "
   ]
  },
  {
   "cell_type": "code",
   "execution_count": 31,
   "metadata": {},
   "outputs": [
    {
     "data": {
      "text/plain": [
       "['2 storey house negonbo 2 storey air conditioned house thushara Hiawatha 2 mind negombo Colombo road 5 mind negombo town lobby living dinning ki kitchen pantry balcony 4 bedroom 3 bathroom 3000 sq foot solar power hot water e system nmatap water upper tank garbage service 3 time week land area 12 perch price 28000000 tel 0765331254 ',\n",
       " 'ratmalana house ratmalana borupana road 118 perch land house 3 bedroom 2 toilet 1 hall dining Hal pantry kitchen wall right round front garden rear garden 2 court yard walking distance car gills super kudu r 3000000 broker genuine buyer 0773890545 ',\n",
       " 'katubedda pbalwis per era Hiawatha 300 Galle road 4 spacious bedroom 2 bathroom large living dining area spacious pantry outside extra kitchen toilet garage parapet wall around 19 perch asking price 360 00000 inspection appointment ovary wry aye ',\n",
       " 'luxury house Colombo 6 2500 sqft 4 bedroom ac 3 bathroom hot water parking 2 rolled shutter gate oz unfurnished upstairs house 225 k pm garden backyard available 0773867704 ',\n",
       " 'kotagedara piliyandala house 2 bedroomed 6 p complete ac cctv wire mesh razor blade around boundary wall wall cupboard t vo bear role roller gate fully tiled upper floor complete slab immediate 3 owner migrating bathroom 1 shower cubicle servant bathroom 0777668357 kotagedara piliyandala ',\n",
       " 'thalawathugoda 75 perch 3100 sqft e 2 foe hanagrohe fug hogan pantile 168 price e 3 provision fer cctv Deena 38 m tegossne 20 h road broker ',\n",
       " 'luxury house house desalts 425 perch 8500 sqft malm house ground floor double garage security roomy sitting dinning pantry Chechen servant room toilet bedroom 3 toll sun din 1 floor cree e TV bothy 2 room tolgty master rect ar cone in bait solar power annex 1 parking vehicle location 2 floor dinning sitting pantry servant room toilet 1 room tolled master bedroom toilet plus attic air conditioned solar power miscount 5000000 furniture tr ego e 0772626549 ',\n",
       " 'Colombo 05 exclusive residential area 10 perch 5 bedroom 4 toilet separate servant room toilet covered parking 2 vehicle quick highest bid 0718287756 ',\n",
       " 'Anuradhapura near wilpattu junction luxury house garden migrate ad ideal fully tied house 4 bedroom 02 bathroom garden filled 8 coconut tree 3 king coconut jack fruit bread fruit fruit mango nellee cherry papaya cashew passion fruit land house 110 perch surrounding air port fencing solar power hot water master bedroom air conditioned aa 171519002 m 9 f domshegilyahooom ',\n",
       " '7 g delkanda nugegoda architectural designed 7 spacious bedroom 5 bathroom 2 living room large kitchen sp private garden sea entrance 2 ND floor could used 2 unit business property house 19 perch close proximity high level road 5 udahamulia railway station sri jayawardenepura university bank grocery 8477040155 trave ']"
      ]
     },
     "execution_count": 31,
     "metadata": {},
     "output_type": "execute_result"
    }
   ],
   "source": [
    "final_preprocessed_lst[:10]"
   ]
  },
  {
   "cell_type": "code",
   "execution_count": 32,
   "metadata": {},
   "outputs": [
    {
     "data": {
      "text/plain": [
       "157"
      ]
     },
     "execution_count": 32,
     "metadata": {},
     "output_type": "execute_result"
    }
   ],
   "source": [
    "len(final_preprocessed_lst)"
   ]
  },
  {
   "cell_type": "markdown",
   "metadata": {},
   "source": [
    "# Save as Text file separately train and test"
   ]
  },
  {
   "cell_type": "code",
   "execution_count": 33,
   "metadata": {},
   "outputs": [],
   "source": [
    "output_file = r\"D:\\R & D PROJECT\\Test_text\\test_data.txt\"\n",
    "f = open(output_file, \"w\")\n",
    "for data in final_preprocessed_lst:\n",
    "    f.write(\"%s,\\n\"% data)\n",
    "f.close()"
   ]
  },
  {
   "cell_type": "code",
   "execution_count": 34,
   "metadata": {},
   "outputs": [],
   "source": [
    "with open(r\"D:\\R & D PROJECT\\Test_text\\test_data.txt\", \"r\") as filename:\n",
    "    train_file = filename.read()"
   ]
  },
  {
   "cell_type": "code",
   "execution_count": 35,
   "metadata": {},
   "outputs": [],
   "source": [
    "cleaned_text = []\n",
    "for line in train_file.split(\",\"):\n",
    "    if not line.strip():\n",
    "            continue\n",
    "    cleaned_text.append(line.lstrip())"
   ]
  },
  {
   "cell_type": "code",
   "execution_count": 36,
   "metadata": {},
   "outputs": [
    {
     "data": {
      "text/plain": [
       "'ratmalana house ratmalana borupana road 118 perch land house 3 bedroom 2 toilet 1 hall dining Hal pantry kitchen wall right round front garden rear garden 2 court yard walking distance car gills super kudu r 3000000 broker genuine buyer 0773890545 '"
      ]
     },
     "execution_count": 36,
     "metadata": {},
     "output_type": "execute_result"
    }
   ],
   "source": [
    "cleaned_text[1]"
   ]
  },
  {
   "cell_type": "code",
   "execution_count": null,
   "metadata": {},
   "outputs": [],
   "source": []
  }
 ],
 "metadata": {
  "interpreter": {
   "hash": "8867321196b4aed495a8cb57ae795b5cb9f69b50030feb2979c26ed6dde2da6a"
  },
  "kernelspec": {
   "display_name": "Python 3 (ipykernel)",
   "language": "python",
   "name": "python3"
  },
  "language_info": {
   "codemirror_mode": {
    "name": "ipython",
    "version": 3
   },
   "file_extension": ".py",
   "mimetype": "text/x-python",
   "name": "python",
   "nbconvert_exporter": "python",
   "pygments_lexer": "ipython3",
   "version": "3.9.7"
  }
 },
 "nbformat": 4,
 "nbformat_minor": 2
}
